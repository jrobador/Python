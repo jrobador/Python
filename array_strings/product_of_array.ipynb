{
 "cells": [
  {
   "cell_type": "markdown",
   "metadata": {},
   "source": [
    "# 238. Product of Array Except Self\n",
    "\n",
    "Given an integer array nums, return an array answer such that answer[i] is equal to the product of all the elements of nums except nums[i].\n",
    "\n",
    "The product of any prefix or suffix of nums is guaranteed to fit in a 32-bit integer.\n",
    "\n",
    "You must write an algorithm that runs in O(n) time and without using the division operation.\n",
    "\n",
    " \n",
    "\n",
    "Example 1:\n",
    "\n",
    "Input: nums = [1,2,3,4]\n",
    "Output: [24,12,8,6]\n",
    "\n",
    "Example 2:\n",
    "\n",
    "Input: nums = [-1,1,0,-3,3]\n",
    "Output: [0,0,9,0,0]\n",
    " \n",
    "\n",
    " Think how you can efficiently utilize prefix and suffix products to calculate the product of all elements except self for each index. Can you pre-compute the prefix and suffix products in linear time to avoid redundant calculations?\n",
    "\n",
    " Can you minimize additional space usage by reusing memory or modifying the input array to store intermediate results?\n",
    "\n",
    "\n",
    "First solution, to know the way to approach it:"
   ]
  },
  {
   "cell_type": "code",
   "execution_count": 53,
   "metadata": {},
   "outputs": [],
   "source": [
    "from typing import List\n",
    "\n",
    "class Solution:\n",
    "    def productExceptSelf(self, nums: List[int]) -> List[int]:\n",
    "        output = []\n",
    "        for i, num in enumerate(nums):\n",
    "            temp = 1\n",
    "            for j, num in enumerate(nums):\n",
    "                if (i != j):\n",
    "                    temp *= nums[j]\n",
    "            output.append(temp)\n",
    "        return output"
   ]
  },
  {
   "cell_type": "code",
   "execution_count": 145,
   "metadata": {},
   "outputs": [],
   "source": [
    "nums = [1,2,3,4]"
   ]
  },
  {
   "cell_type": "code",
   "execution_count": 67,
   "metadata": {},
   "outputs": [
    {
     "data": {
      "text/plain": [
       "[24, 12, 8, 6]"
      ]
     },
     "execution_count": 67,
     "metadata": {},
     "output_type": "execute_result"
    }
   ],
   "source": [
    "solver = Solution()\n",
    "solver.productExceptSelf(nums)"
   ]
  },
  {
   "cell_type": "markdown",
   "metadata": {},
   "source": [
    "Using a sufix calculation:"
   ]
  },
  {
   "cell_type": "code",
   "execution_count": 73,
   "metadata": {},
   "outputs": [],
   "source": [
    "from typing import List\n",
    "\n",
    "class Solution:\n",
    "    def productExceptSelf(self, nums: List[int]) -> List[int]:   \n",
    "        output = []\n",
    "        for num_index in range(len(nums)):\n",
    "            s = 1\n",
    "            i = 0\n",
    "            j = len(nums)-1\n",
    "            while i < num_index:\n",
    "                s *= nums[i]\n",
    "                i+=1\n",
    "            while j > num_index:\n",
    "                s *= nums[j]\n",
    "                j-=1\n",
    "            output.append(s)\n",
    "        return output"
   ]
  },
  {
   "cell_type": "code",
   "execution_count": 74,
   "metadata": {},
   "outputs": [
    {
     "data": {
      "text/plain": [
       "[24, 12, 8, 6]"
      ]
     },
     "execution_count": 74,
     "metadata": {},
     "output_type": "execute_result"
    }
   ],
   "source": [
    "solver = Solution()\n",
    "solver.productExceptSelf(nums)"
   ]
  },
  {
   "cell_type": "markdown",
   "metadata": {},
   "source": [
    "Precomputing products. I thought the idea exactly as Greg Hogg did buy my code is not that fast!!!!"
   ]
  },
  {
   "cell_type": "code",
   "execution_count": 196,
   "metadata": {},
   "outputs": [],
   "source": [
    "from typing import List\n",
    "\n",
    "class Solution:\n",
    "    def productExceptSelf(self, nums: List[int]) -> List[int]:   \n",
    "        output     = [0] * len(nums)\n",
    "        left_mat   = []\n",
    "        right_mat  = []\n",
    "        left_mult  = 1\n",
    "        right_mult = 1\n",
    "        \n",
    "        for i in range(len(nums)):\n",
    "            temp = 1\n",
    "            for num_j in (nums[i+1:]):\n",
    "                temp *= num_j\n",
    "            right_mat.append(temp)\n",
    "            \n",
    "        for i in range(len(nums),0,-1):\n",
    "            temp = 1\n",
    "            for j in range(len(nums[:i-1]), 0, -1):\n",
    "                temp *= nums[j-1]\n",
    "            left_mat.append(temp) \n",
    "        \n",
    "\n",
    "        for i in range (len(left_mat)):\n",
    "            j = -i -1\n",
    "            output[i] = left_mat[j] * right_mat[i]\n",
    "\n",
    "        return output"
   ]
  },
  {
   "cell_type": "code",
   "execution_count": 197,
   "metadata": {},
   "outputs": [
    {
     "name": "stdout",
     "output_type": "stream",
     "text": [
      "[6, 2, 1, 1]\n",
      "[24, 12, 4, 1]\n"
     ]
    },
    {
     "data": {
      "text/plain": [
       "[24, 12, 8, 6]"
      ]
     },
     "execution_count": 197,
     "metadata": {},
     "output_type": "execute_result"
    }
   ],
   "source": [
    "solver = Solution()\n",
    "solver.productExceptSelf(nums)"
   ]
  },
  {
   "cell_type": "markdown",
   "metadata": {},
   "source": [
    "The real one:"
   ]
  },
  {
   "cell_type": "code",
   "execution_count": 207,
   "metadata": {},
   "outputs": [],
   "source": [
    "from typing import List\n",
    "\n",
    "class Solution:\n",
    "    def productExceptSelf(self, nums: List[int]) -> List[int]:\n",
    "        left_mat   = [0] * len(nums)\n",
    "        right_mat  = [0] * len(nums)\n",
    "        left_mult  = 1\n",
    "        right_mult = 1\n",
    "\n",
    "        for i in range (len(nums)):\n",
    "            j = -1-i\n",
    "            left_mat[i]  = left_mult\n",
    "            right_mat[j] = right_mult\n",
    "            left_mult   *= nums[i]\n",
    "            right_mult  *= nums[j]\n",
    "        \n",
    "        return [l*r for l,r in zip(left_mat,right_mat)]\n"
   ]
  },
  {
   "cell_type": "code",
   "execution_count": 208,
   "metadata": {},
   "outputs": [
    {
     "data": {
      "text/plain": [
       "[24, 12, 8, 6]"
      ]
     },
     "execution_count": 208,
     "metadata": {},
     "output_type": "execute_result"
    }
   ],
   "source": [
    "solver = Solution()\n",
    "solver.productExceptSelf(nums)"
   ]
  }
 ],
 "metadata": {
  "kernelspec": {
   "display_name": "base",
   "language": "python",
   "name": "python3"
  },
  "language_info": {
   "codemirror_mode": {
    "name": "ipython",
    "version": 3
   },
   "file_extension": ".py",
   "mimetype": "text/x-python",
   "name": "python",
   "nbconvert_exporter": "python",
   "pygments_lexer": "ipython3",
   "version": "3.12.4"
  }
 },
 "nbformat": 4,
 "nbformat_minor": 2
}
