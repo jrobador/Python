{
 "cells": [
  {
   "cell_type": "markdown",
   "metadata": {},
   "source": [
    "# 228. Summary Ranges\n",
    "\n",
    "You are given a sorted unique integer array nums.\n",
    "\n",
    "A range [a,b] is the set of all integers from a to b (inclusive).\n",
    "\n",
    "Return the smallest sorted list of ranges that cover all the numbers in the array exactly. That is, each element of nums is covered by exactly one of the ranges, and there is no integer x such that x is in one of the ranges but not in nums.\n",
    "\n",
    "Each range [a,b] in the list should be output as:\n",
    "\n",
    "\"a->b\" if a != b\n",
    "\"a\" if a == b"
   ]
  },
  {
   "cell_type": "code",
   "execution_count": 10,
   "metadata": {},
   "outputs": [],
   "source": [
    "from typing import List\n",
    "class Solution:\n",
    "    def summaryRanges(self, nums: List[int]) -> List[str]:\n",
    "        if nums == []:\n",
    "            return nums\n",
    "        else:\n",
    "            lst_tmp = str(nums[0])\n",
    "            nums.pop(0)\n",
    "\n",
    "        output    = []\n",
    "        iter      = lst_tmp\n",
    "        last      = lst_tmp\n",
    "        while nums:\n",
    "            if (int(iter)+1 != nums[0]):\n",
    "                if (last != lst_tmp):\n",
    "                    opt = lst_tmp + \"->\" + str(last)\n",
    "                    output.append(opt)\n",
    "                else:\n",
    "                    output.append(lst_tmp)\n",
    "            else:\n",
    "                iter = last \n",
    "                last = nums[0]\n",
    "                \n",
    "\n",
    "            nums.pop(0)\n",
    "            #Primer numero de secuencia\n",
    "            #Iterador de secuencia\n",
    "            #Logica de ultimo numero\n",
    "        return output"
   ]
  },
  {
   "cell_type": "code",
   "execution_count": 11,
   "metadata": {},
   "outputs": [],
   "source": [
    "nums = [0,1,2,4,5,7]"
   ]
  },
  {
   "cell_type": "code",
   "execution_count": 12,
   "metadata": {},
   "outputs": [
    {
     "name": "stdout",
     "output_type": "stream",
     "text": [
      "['0->1', '0->1', '0->1', '0->1']\n"
     ]
    }
   ],
   "source": [
    "solver = Solution()\n",
    "\n",
    "print(solver.summaryRanges(nums))"
   ]
  },
  {
   "cell_type": "code",
   "execution_count": null,
   "metadata": {},
   "outputs": [],
   "source": []
  }
 ],
 "metadata": {
  "kernelspec": {
   "display_name": "base",
   "language": "python",
   "name": "python3"
  },
  "language_info": {
   "codemirror_mode": {
    "name": "ipython",
    "version": 3
   },
   "file_extension": ".py",
   "mimetype": "text/x-python",
   "name": "python",
   "nbconvert_exporter": "python",
   "pygments_lexer": "ipython3",
   "version": "3.12.4"
  }
 },
 "nbformat": 4,
 "nbformat_minor": 2
}
