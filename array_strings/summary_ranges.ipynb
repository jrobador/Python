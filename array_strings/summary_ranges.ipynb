{
 "cells": [
  {
   "cell_type": "markdown",
   "metadata": {},
   "source": [
    "# 228. Summary Ranges\n",
    "\n",
    "You are given a sorted unique integer array nums.\n",
    "\n",
    "A range [a,b] is the set of all integers from a to b (inclusive).\n",
    "\n",
    "Return the smallest sorted list of ranges that cover all the numbers in the array exactly. That is, each element of nums is covered by exactly one of the ranges, and there is no integer x such that x is in one of the ranges but not in nums.\n",
    "\n",
    "Each range [a,b] in the list should be output as:\n",
    "\n",
    "\"a->b\" if a != b\n",
    "\"a\" if a == b"
   ]
  },
  {
   "cell_type": "code",
   "execution_count": 7,
   "metadata": {},
   "outputs": [],
   "source": [
    "from typing import List\n",
    "class Solution:\n",
    "    def summaryRanges(self, nums: List[int]) -> List[str]:\n",
    "        if nums == []:\n",
    "            return nums\n",
    "        else:\n",
    "            lst_tmp = (nums[0])\n",
    "            nums.pop(0)\n",
    "\n",
    "        output    = []\n",
    "        last      = lst_tmp\n",
    "        while nums:\n",
    "            num = nums.pop(0)\n",
    "\n",
    "            if ((last+1) != num):\n",
    "                if (last != lst_tmp):\n",
    "                    opt = str(lst_tmp) + \"->\" + str(last)\n",
    "                else:\n",
    "                    opt = str(last)\n",
    "                output.append(opt)\n",
    "                lst_tmp = num\n",
    "\n",
    "            last = num\n",
    "\n",
    "        if last != lst_tmp:\n",
    "            opt = str(lst_tmp) + \"->\" + str(last)\n",
    "        else:\n",
    "            opt = str(last)\n",
    "        output.append(opt)\n",
    "\n",
    "        return output"
   ]
  },
  {
   "cell_type": "code",
   "execution_count": 8,
   "metadata": {},
   "outputs": [],
   "source": [
    "nums = [-1] "
   ]
  },
  {
   "cell_type": "code",
   "execution_count": 9,
   "metadata": {},
   "outputs": [
    {
     "name": "stdout",
     "output_type": "stream",
     "text": [
      "['-1']\n"
     ]
    }
   ],
   "source": [
    "solver = Solution()\n",
    "\n",
    "print(solver.summaryRanges(nums))"
   ]
  },
  {
   "cell_type": "markdown",
   "metadata": {},
   "source": [
    "GPT says that we can improve the code like this:\n",
    "- Avoid Modifying the Input List: Instead of using pop(0), which is inefficient for lists because it has to shift all elements each time, we can iterate directly over the list. This preserves the original list and avoids unnecessary operations.\n",
    "- Combine Initial Setup with the Main Logic: We can simplify the initial setup by combining it with the loop, eliminating the need for special handling before the loop starts.\n",
    "- Use List Indexing Efficiently: By iterating over the list using a loop and index tracking, we can avoid popping elements and manage the current and previous elements more cleanly.\n",
    "- Simplify the Final Handling of the Last Range: Instead of duplicating code to handle the last element after the loop, the logic can be streamlined within the loop.\n"
   ]
  },
  {
   "cell_type": "code",
   "execution_count": 10,
   "metadata": {},
   "outputs": [],
   "source": [
    "class Solution:\n",
    "    def summaryRanges(self, nums: List[int]) -> List[str]:\n",
    "        if not nums:\n",
    "            return []\n",
    "\n",
    "        output = []\n",
    "        lst_tmp = nums[0]\n",
    "\n",
    "        for i in range(1, len(nums)):\n",
    "            # If the current number is not consecutive\n",
    "            if nums[i] != nums[i - 1] + 1:\n",
    "                # If lst_tmp and nums[i - 1] are different, it's a range\n",
    "                if lst_tmp != nums[i - 1]:\n",
    "                    output.append(f\"{lst_tmp}->{nums[i - 1]}\")\n",
    "                else:  # Otherwise, it's a single number\n",
    "                    output.append(str(lst_tmp))\n",
    "                lst_tmp = nums[i]\n",
    "\n",
    "        # Handle the last element or range after the loop\n",
    "        if lst_tmp != nums[-1]:\n",
    "            output.append(f\"{lst_tmp}->{nums[-1]}\")\n",
    "        else:\n",
    "            output.append(str(nums[-1]))\n",
    "\n",
    "        return output"
   ]
  },
  {
   "cell_type": "markdown",
   "metadata": {},
   "source": [
    "Best Leetcode solution:"
   ]
  },
  {
   "cell_type": "code",
   "execution_count": 11,
   "metadata": {},
   "outputs": [],
   "source": [
    "class Solution:\n",
    "  def summaryRanges(self, nums: list[int]) -> list[str]:\n",
    "    ans = []\n",
    "\n",
    "    i = 0\n",
    "    while i < len(nums):\n",
    "      begin = nums[i]\n",
    "      while i < len(nums) - 1 and nums[i] == nums[i + 1] - 1:\n",
    "        i += 1\n",
    "      end = nums[i]\n",
    "      if begin == end:\n",
    "        ans.append(str(begin))\n",
    "      else:\n",
    "        ans.append(str(begin) + \"->\" + str(end))\n",
    "      i += 1\n",
    "\n",
    "    return ans"
   ]
  },
  {
   "cell_type": "markdown",
   "metadata": {},
   "source": [
    "Conclusion: No importa si usamos dos iteraciones en el codigo. Primero hagamos un brainstorming para ver cuales serian todos los approach posibles para resolver el problema. Resolverlo desde lo mas simple. Optimizarlo al ultimo."
   ]
  },
  {
   "cell_type": "markdown",
   "metadata": {},
   "source": []
  }
 ],
 "metadata": {
  "kernelspec": {
   "display_name": "base",
   "language": "python",
   "name": "python3"
  },
  "language_info": {
   "codemirror_mode": {
    "name": "ipython",
    "version": 3
   },
   "file_extension": ".py",
   "mimetype": "text/x-python",
   "name": "python",
   "nbconvert_exporter": "python",
   "pygments_lexer": "ipython3",
   "version": "3.12.4"
  }
 },
 "nbformat": 4,
 "nbformat_minor": 2
}
