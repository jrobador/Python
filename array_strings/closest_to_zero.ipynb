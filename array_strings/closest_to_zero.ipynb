{
 "cells": [
  {
   "cell_type": "markdown",
   "metadata": {},
   "source": [
    "Given an integer array nums of size n, return the number with the value closest to 0 in nums. If there are multiple answers, return the number with the largest value.\n",
    "\n",
    " \n",
    "\n",
    "Example 1:\n",
    "\n",
    "Input: nums = [-4,-2,1,4,8]\n",
    "Output: 1\n",
    "Explanation:\n",
    "The distance from -4 to 0 is |-4| = 4.\n",
    "The distance from -2 to 0 is |-2| = 2.\n",
    "The distance from 1 to 0 is |1| = 1.\n",
    "The distance from 4 to 0 is |4| = 4.\n",
    "The distance from 8 to 0 is |8| = 8.\n",
    "Thus, the closest number to 0 in the array is 1.\n",
    "Example 2:\n",
    "\n",
    "Input: nums = [2,-1,1]\n",
    "Output: 1\n",
    "Explanation: 1 and -1 are both the closest numbers to 0, so 1 being larger is returned.\n",
    " "
   ]
  },
  {
   "cell_type": "code",
   "execution_count": 2,
   "metadata": {},
   "outputs": [],
   "source": [
    "from math import inf\n",
    "from typing import List\n",
    "\n",
    "class Solution:\n",
    "    def findClosestNumber(self, nums: List[int]) -> int:\n",
    "        minim = inf\n",
    "        for num in nums:\n",
    "            if abs(num) < abs(minim):\n",
    "                minim = num\n",
    "            if (abs(num) == abs(minim)):\n",
    "                minim = max(num, minim)\n",
    "        return minim\n"
   ]
  },
  {
   "cell_type": "code",
   "execution_count": 5,
   "metadata": {},
   "outputs": [
    {
     "data": {
      "text/plain": [
       "1"
      ]
     },
     "execution_count": 5,
     "metadata": {},
     "output_type": "execute_result"
    }
   ],
   "source": [
    "nums = [-4,-2,1,4,8]\n",
    "sol = Solution()\n",
    "sol.findClosestNumber(nums)"
   ]
  },
  {
   "cell_type": "code",
   "execution_count": null,
   "metadata": {},
   "outputs": [],
   "source": []
  }
 ],
 "metadata": {
  "kernelspec": {
   "display_name": "base",
   "language": "python",
   "name": "python3"
  },
  "language_info": {
   "codemirror_mode": {
    "name": "ipython",
    "version": 3
   },
   "file_extension": ".py",
   "mimetype": "text/x-python",
   "name": "python",
   "nbconvert_exporter": "python",
   "pygments_lexer": "ipython3",
   "version": "3.12.4"
  }
 },
 "nbformat": 4,
 "nbformat_minor": 2
}
